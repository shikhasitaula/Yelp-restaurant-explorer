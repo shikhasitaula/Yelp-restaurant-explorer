{
 "cells": [
  {
   "cell_type": "code",
   "execution_count": 7,
   "metadata": {},
   "outputs": [],
   "source": [
    "import sqlite3\n",
    "conn = sqlite3.connect('restaurants.db')"
   ]
  },
  {
   "cell_type": "code",
   "execution_count": 17,
   "metadata": {},
   "outputs": [
    {
     "name": "stdout",
     "output_type": "stream",
     "text": [
      "('American (Traditional)', 69)\n",
      "('American (New)', 55)\n",
      "('Mexican', 54)\n",
      "('Pizza', 41)\n",
      "('Breakfast & Brunch', 40)\n",
      "('Burgers', 39)\n",
      "('Sushi Bars', 34)\n",
      "('Seafood', 33)\n",
      "('Sandwiches', 33)\n",
      "('Italian', 31)\n",
      "('Coffee & Tea', 31)\n",
      "('Bars', 30)\n",
      "('Chinese', 23)\n",
      "('Japanese', 22)\n",
      "('Steakhouses', 21)\n"
     ]
    }
   ],
   "source": [
    "cursor = conn.cursor()\n",
    "# Specify the cuisine you're interested in\n",
    "desired_cuisine = 'Italian'\n",
    "\n",
    "# Execute a SQL query to retrieve restaurant details for the given cuisine\n",
    "query = \"\"\"\n",
    "    SELECT cuisines, count(id)\n",
    "    FROM restaurant_cuisine\n",
    "    WHERE ID IN \n",
    "    (SELECT id from restaurant_metadata where city = '')\n",
    "    GROUP BY cuisines\n",
    "    ORDER BY count(id) desc\n",
    "    LIMIT 15\n",
    "\"\"\"\n",
    "\n",
    "restaurants_with_cuisine = cursor.execute(query).fetchall()\n",
    "\n",
    "# Print the results\n",
    "for restaurant in restaurants_with_cuisine:\n",
    "    print(restaurant)\n",
    "\n",
    "\n"
   ]
  },
  {
   "cell_type": "code",
   "execution_count": null,
   "metadata": {},
   "outputs": [],
   "source": [
    "# Close the connection\n",
    "conn.close()"
   ]
  }
 ],
 "metadata": {
  "kernelspec": {
   "display_name": "base",
   "language": "python",
   "name": "python3"
  },
  "language_info": {
   "codemirror_mode": {
    "name": "ipython",
    "version": 3
   },
   "file_extension": ".py",
   "mimetype": "text/x-python",
   "name": "python",
   "nbconvert_exporter": "python",
   "pygments_lexer": "ipython3",
   "version": "3.10.9"
  },
  "orig_nbformat": 4
 },
 "nbformat": 4,
 "nbformat_minor": 2
}
