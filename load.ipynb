{
 "cells": [
  {
   "cell_type": "code",
   "execution_count": 1,
   "metadata": {},
   "outputs": [],
   "source": [
    "import pandas as pd\n",
    "import ast"
   ]
  },
  {
   "cell_type": "code",
   "execution_count": 2,
   "metadata": {},
   "outputs": [],
   "source": [
    "csv_file_path = 'data.csv'\n",
    "# Read the CSV file and create a DataFrame\n",
    "combined_df = pd.read_csv(csv_file_path)"
   ]
  },
  {
   "cell_type": "code",
   "execution_count": 3,
   "metadata": {},
   "outputs": [],
   "source": [
    "# creating new columns for easy reading\n",
    "combined_df['cuisines'] = combined_df['categories'].apply(lambda obj_list: set(item['title'] for item in  ast.literal_eval(obj_list)))\n",
    "combined_df['latitude'] = combined_df['coordinates'].apply((lambda obj: ast.literal_eval(obj)['latitude'] ))\n",
    "combined_df['longitude'] = combined_df['coordinates'].apply((lambda obj: ast.literal_eval(obj)['longitude'] ))\n",
    "combined_df['state'] = combined_df['location'].apply((lambda obj: ast.literal_eval(obj)['state'] ))\n",
    "combined_df['city'] = combined_df['location'].apply((lambda obj: ast.literal_eval(obj)['city'] ))\n",
    "\n",
    "# Convert cuisines into string\n",
    "combined_df['cuisines'] = combined_df['cuisines'].apply(lambda obj_list: \",\".join(obj_list))"
   ]
  },
  {
   "cell_type": "code",
   "execution_count": 4,
   "metadata": {},
   "outputs": [],
   "source": [
    "# choosing only the necessary columns\n",
    "clean_df = combined_df[['id','alias','name','image_url','url','review_count','rating','price','display_phone', 'cuisines', 'latitude','longitude','location', 'state','city']]\n",
    "clean_df=clean_df.drop_duplicates(subset=['id'])"
   ]
  },
  {
   "cell_type": "code",
   "execution_count": 5,
   "metadata": {},
   "outputs": [],
   "source": [
    "import sqlite3\n",
    "conn = sqlite3.connect('restaurants.db')\n"
   ]
  },
  {
   "cell_type": "code",
   "execution_count": 6,
   "metadata": {},
   "outputs": [
    {
     "data": {
      "text/plain": [
       "23286"
      ]
     },
     "execution_count": 6,
     "metadata": {},
     "output_type": "execute_result"
    }
   ],
   "source": [
    "# making tables for restaurants\n",
    "clean_df.to_sql('restaurant_metadata', conn, index=False, if_exists='replace', dtype={'id': 'PRIMARY KEY'})"
   ]
  },
  {
   "cell_type": "code",
   "execution_count": 7,
   "metadata": {},
   "outputs": [
    {
     "data": {
      "text/plain": [
       "50"
      ]
     },
     "execution_count": 7,
     "metadata": {},
     "output_type": "execute_result"
    }
   ],
   "source": [
    "csv_file_path_state = 'state_alias.csv'\n",
    "# Read the CSV file and create a DataFrame\n",
    "state_df = pd.read_csv(csv_file_path_state)\n",
    "state_df.to_sql('states', conn, index=False, if_exists='replace', dtype={'state': 'PRIMARY KEY'})"
   ]
  },
  {
   "cell_type": "code",
   "execution_count": 8,
   "metadata": {},
   "outputs": [],
   "source": [
    "conn.close()"
   ]
  }
 ],
 "metadata": {
  "kernelspec": {
   "display_name": "Python 3 (ipykernel)",
   "language": "python",
   "name": "python3"
  },
  "language_info": {
   "codemirror_mode": {
    "name": "ipython",
    "version": 3
   },
   "file_extension": ".py",
   "mimetype": "text/x-python",
   "name": "python",
   "nbconvert_exporter": "python",
   "pygments_lexer": "ipython3",
   "version": "3.10.11"
  }
 },
 "nbformat": 4,
 "nbformat_minor": 4
}
