{
 "cells": [
  {
   "cell_type": "code",
   "execution_count": 38,
   "metadata": {},
   "outputs": [],
   "source": [
    "import pandas as pd\n",
    "import ast"
   ]
  },
  {
   "cell_type": "code",
   "execution_count": 39,
   "metadata": {},
   "outputs": [],
   "source": [
    "csv_file_path = 'data.csv'\n",
    "# Read the CSV file and create a DataFrame\n",
    "combined_df = pd.read_csv(csv_file_path)"
   ]
  },
  {
   "cell_type": "code",
   "execution_count": 40,
   "metadata": {},
   "outputs": [],
   "source": [
    "# creating new columns for easy reading\n",
    "combined_df['cuisines'] = combined_df['categories'].apply(lambda obj_list: [item['title'] for item in  ast.literal_eval(obj_list)])\n",
    "combined_df['latitude'] = combined_df['coordinates'].apply((lambda obj: ast.literal_eval(obj)['latitude'] ))\n",
    "combined_df['longitude'] = combined_df['coordinates'].apply((lambda obj: ast.literal_eval(obj)['longitude'] ))\n",
    "combined_df['state'] = combined_df['location'].apply((lambda obj: ast.literal_eval(obj)['state'] ))\n",
    "combined_df['city'] = combined_df['location'].apply((lambda obj: ast.literal_eval(obj)['city'] ))"
   ]
  },
  {
   "cell_type": "code",
   "execution_count": 41,
   "metadata": {},
   "outputs": [],
   "source": [
    "# choosing only the necessary columns\n",
    "clean_df = combined_df[['id','alias','name','image_url','url','review_count','rating','price','phone','latitude','longitude','state','city']]"
   ]
  },
  {
   "cell_type": "code",
   "execution_count": 42,
   "metadata": {},
   "outputs": [],
   "source": [
    "# converting array(cuisines) to columns\n",
    "cuisine_array_df = combined_df[['id','cuisines']]\n",
    "cuisine_df = cuisine_array_df.explode('cuisines')"
   ]
  },
  {
   "cell_type": "code",
   "execution_count": 43,
   "metadata": {},
   "outputs": [],
   "source": [
    "clean_df=clean_df.drop_duplicates(subset=['id'])\n",
    "cuisine_df=cuisine_df.drop_duplicates(subset=['id','cuisines'])"
   ]
  },
  {
   "cell_type": "code",
   "execution_count": 44,
   "metadata": {},
   "outputs": [],
   "source": [
    "import sqlite3\n",
    "conn = sqlite3.connect('Resources/restaurants.db')\n"
   ]
  },
  {
   "cell_type": "code",
   "execution_count": 45,
   "metadata": {},
   "outputs": [],
   "source": [
    "# making tables for restaurants and cuisines\n",
    "clean_df.to_sql('restaurant_metadata', conn, index=False, if_exists='append')\n",
    "cuisine_df.to_sql('restaurant_cuisine', conn, index=False, if_exists='append')\n"
   ]
  },
  {
   "cell_type": "code",
   "execution_count": 3,
   "metadata": {},
   "outputs": [
    {
     "data": {
      "text/plain": [
       "50"
      ]
     },
     "execution_count": 3,
     "metadata": {},
     "output_type": "execute_result"
    }
   ],
   "source": [
    "csv_file_path_state = 'state_alias.csv'\n",
    "# Read the CSV file and create a DataFrame\n",
    "state_df = pd.read_csv(csv_file_path_state)\n",
    "state_df.to_sql('states', conn, index=False, if_exists='append')"
   ]
  },
  {
   "cell_type": "code",
   "execution_count": 4,
   "metadata": {},
   "outputs": [],
   "source": [
    "conn.close()"
   ]
  }
 ],
 "metadata": {
  "kernelspec": {
   "display_name": "base",
   "language": "python",
   "name": "python3"
  },
  "language_info": {
   "codemirror_mode": {
    "name": "ipython",
    "version": 3
   },
   "file_extension": ".py",
   "mimetype": "text/x-python",
   "name": "python",
   "nbconvert_exporter": "python",
   "pygments_lexer": "ipython3",
   "version": "3.10.9"
  },
  "orig_nbformat": 4
 },
 "nbformat": 4,
 "nbformat_minor": 2
}
