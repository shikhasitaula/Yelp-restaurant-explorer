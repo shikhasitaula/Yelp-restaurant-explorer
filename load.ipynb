{
 "cells": [
  {
   "cell_type": "code",
   "execution_count": 15,
   "metadata": {},
   "outputs": [],
   "source": [
    "import pandas as pd\n",
    "import ast"
   ]
  },
  {
   "cell_type": "code",
   "execution_count": 16,
   "metadata": {},
   "outputs": [],
   "source": [
    "csv_file_path = 'data.csv'\n",
    "# Read the CSV file and create a DataFrame\n",
    "combined_df = pd.read_csv(csv_file_path)"
   ]
  },
  {
   "cell_type": "code",
   "execution_count": 17,
   "metadata": {},
   "outputs": [],
   "source": [
    "combined_df['cuisines'] = combined_df['categories'].apply(lambda obj_list: [item['title'] for item in  ast.literal_eval(obj_list)])\n",
    "combined_df['latitude'] = combined_df['coordinates'].apply((lambda obj: ast.literal_eval(obj)['latitude'] ))\n",
    "combined_df['longitude'] = combined_df['coordinates'].apply((lambda obj: ast.literal_eval(obj)['longitude'] ))\n",
    "combined_df['state'] = combined_df['location'].apply((lambda obj: ast.literal_eval(obj)['state'] ))\n",
    "combined_df['city'] = combined_df['location'].apply((lambda obj: ast.literal_eval(obj)['city'] ))"
   ]
  },
  {
   "cell_type": "code",
   "execution_count": 18,
   "metadata": {},
   "outputs": [],
   "source": [
    "clean_df = combined_df[['id','alias','name','image_url','url','review_count','rating','price','phone','latitude','longitude','state','city']]"
   ]
  },
  {
   "cell_type": "code",
   "execution_count": 19,
   "metadata": {},
   "outputs": [],
   "source": [
    "cuisine_array_df = combined_df[['id','cuisines']]\n",
    "cuisine_df = cuisine_array_df.explode('cuisines')"
   ]
  },
  {
   "cell_type": "code",
   "execution_count": 20,
   "metadata": {},
   "outputs": [],
   "source": [
    "import sqlite3\n",
    "conn = sqlite3.connect('restaurants.db')\n"
   ]
  },
  {
   "cell_type": "code",
   "execution_count": 21,
   "metadata": {},
   "outputs": [],
   "source": [
    "clean_df.to_sql('restaurant_metadata', conn, index=False, if_exists='replace')\n",
    "cuisine_df.to_sql('restaurant_cuisine', conn, index=False, if_exists='replace')\n",
    "conn.close()"
   ]
  }
 ],
 "metadata": {
  "kernelspec": {
   "display_name": "base",
   "language": "python",
   "name": "python3"
  },
  "language_info": {
   "codemirror_mode": {
    "name": "ipython",
    "version": 3
   },
   "file_extension": ".py",
   "mimetype": "text/x-python",
   "name": "python",
   "nbconvert_exporter": "python",
   "pygments_lexer": "ipython3",
   "version": "3.10.9"
  },
  "orig_nbformat": 4
 },
 "nbformat": 4,
 "nbformat_minor": 2
}
