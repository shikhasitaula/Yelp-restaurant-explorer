{
 "cells": [
  {
   "cell_type": "code",
   "execution_count": 40,
   "metadata": {},
   "outputs": [],
   "source": [
    "# Dependencies\n",
    "import requests\n",
    "import json\n",
    "import pprint\n",
    "# Import the API key\n",
    "from yelp import API_key"
   ]
  },
  {
   "cell_type": "code",
   "execution_count": 41,
   "metadata": {},
   "outputs": [],
   "source": [
    "url = \"https://api.yelp.com/v3/businesses/search\""
   ]
  },
  {
   "cell_type": "code",
   "execution_count": 42,
   "metadata": {},
   "outputs": [],
   "source": [
    "params = {\n",
    "    \"term\": \"food\",  \n",
    "    \"location\": \"Texas\", \n",
    "    \"limit\": 3\n",
    "}"
   ]
  },
  {
   "cell_type": "code",
   "execution_count": 43,
   "metadata": {},
   "outputs": [],
   "source": [
    "headers = {\n",
    "    \"Authorization\": f\"Bearer {API_key}\"\n",
    "}"
   ]
  },
  {
   "cell_type": "code",
   "execution_count": 44,
   "metadata": {},
   "outputs": [],
   "source": [
    "response = requests.get(url, params=params, headers=headers)\n",
    "\n",
    "data = response.json()"
   ]
  },
  {
   "cell_type": "code",
   "execution_count": 45,
   "metadata": {},
   "outputs": [
    {
     "name": "stdout",
     "output_type": "stream",
     "text": [
      "{'businesses': [{'id': 'o8IRbAdynoBaCKm-Zaj6LA', 'alias': 'the-kings-feast-plantersville-2', 'name': \"The King's Feast\", 'image_url': 'https://s3-media4.fl.yelpcdn.com/bphoto/EbNbmauF-Xc4x0833aQk-g/o.jpg', 'is_closed': False, 'url': 'https://www.yelp.com/biz/the-kings-feast-plantersville-2?adjust_creative=yvpDOw74EsdYOX_gzJFDZQ&utm_campaign=yelp_api_v3&utm_medium=api_v3_business_search&utm_source=yvpDOw74EsdYOX_gzJFDZQ', 'review_count': 7, 'categories': [{'alias': 'dinnertheater', 'title': 'Dinner Theater'}], 'rating': 4.5, 'coordinates': {'latitude': 30.2557695824901, 'longitude': -95.8397671089066}, 'transactions': [], 'price': '$$$$', 'location': {'address1': '21778 Fm-1774', 'address2': None, 'address3': '', 'city': 'Plantersville', 'zip_code': '77363', 'country': 'US', 'state': 'TX', 'display_address': ['21778 Fm-1774', 'Plantersville, TX 77363']}, 'phone': '+18002240761', 'display_phone': '(800) 224-0761', 'distance': 61507.52722304298}, {'id': 'Fmdv8Wqf3kwwHXkmFiAv8Q', 'alias': 'himari-houston-2', 'name': 'Himari', 'image_url': 'https://s3-media3.fl.yelpcdn.com/bphoto/BNXyvPVyF2gEycQ__d6zdQ/o.jpg', 'is_closed': False, 'url': 'https://www.yelp.com/biz/himari-houston-2?adjust_creative=yvpDOw74EsdYOX_gzJFDZQ&utm_campaign=yelp_api_v3&utm_medium=api_v3_business_search&utm_source=yvpDOw74EsdYOX_gzJFDZQ', 'review_count': 34, 'categories': [{'alias': 'japanese', 'title': 'Japanese'}], 'rating': 4.5, 'coordinates': {'latitude': 29.816834, 'longitude': -95.421845}, 'transactions': ['pickup', 'delivery'], 'location': {'address1': '1223 W 34th St', 'address2': 'Ste C500', 'address3': '', 'city': 'Houston', 'zip_code': '77018', 'country': 'US', 'state': 'TX', 'display_address': ['1223 W 34th St', 'Ste C500', 'Houston, TX 77018']}, 'phone': '+18325825005', 'display_phone': '(832) 582-5005', 'distance': 1911.251990966743}, {'id': 'MeyUXf7jcgF-jeHnLZk3vg', 'alias': 'rooster-and-rice-houston', 'name': 'Rooster & Rice', 'image_url': 'https://s3-media4.fl.yelpcdn.com/bphoto/PnDMB4daPvDtn4Wf5KbR9A/o.jpg', 'is_closed': False, 'url': 'https://www.yelp.com/biz/rooster-and-rice-houston?adjust_creative=yvpDOw74EsdYOX_gzJFDZQ&utm_campaign=yelp_api_v3&utm_medium=api_v3_business_search&utm_source=yvpDOw74EsdYOX_gzJFDZQ', 'review_count': 74, 'categories': [{'alias': 'thai', 'title': 'Thai'}, {'alias': 'chickenshop', 'title': 'Chicken Shop'}], 'rating': 4.0, 'coordinates': {'latitude': 29.816916598862413, 'longitude': -95.42140630000004}, 'transactions': ['pickup', 'delivery'], 'price': '$$', 'location': {'address1': '1223 W 34th St', 'address2': 'Ste C-400', 'address3': '', 'city': 'Houston', 'zip_code': '77018', 'country': 'US', 'state': 'TX', 'display_address': ['1223 W 34th St', 'Ste C-400', 'Houston, TX 77018']}, 'phone': '+17139936581', 'display_phone': '(713) 993-6581', 'distance': 1909.21210692086}], 'total': 21500, 'region': {'center': {'longitude': -95.42724609375, 'latitude': 29.833322107007213}}}\n"
     ]
    }
   ],
   "source": [
    "print(data)"
   ]
  },
  {
   "cell_type": "code",
   "execution_count": 46,
   "metadata": {},
   "outputs": [
    {
     "name": "stdout",
     "output_type": "stream",
     "text": [
      "{\n",
      "    \"businesses\": [\n",
      "        {\n",
      "            \"alias\": \"the-kings-feast-plantersville-2\",\n",
      "            \"categories\": [\n",
      "                {\n",
      "                    \"alias\": \"dinnertheater\",\n",
      "                    \"title\": \"Dinner Theater\"\n",
      "                }\n",
      "            ],\n",
      "            \"coordinates\": {\n",
      "                \"latitude\": 30.2557695824901,\n",
      "                \"longitude\": -95.8397671089066\n",
      "            },\n",
      "            \"display_phone\": \"(800) 224-0761\",\n",
      "            \"distance\": 61507.52722304298,\n",
      "            \"id\": \"o8IRbAdynoBaCKm-Zaj6LA\",\n",
      "            \"image_url\": \"https://s3-media4.fl.yelpcdn.com/bphoto/EbNbmauF-Xc4x0833aQk-g/o.jpg\",\n",
      "            \"is_closed\": false,\n",
      "            \"location\": {\n",
      "                \"address1\": \"21778 Fm-1774\",\n",
      "                \"address2\": null,\n",
      "                \"address3\": \"\",\n",
      "                \"city\": \"Plantersville\",\n",
      "                \"country\": \"US\",\n",
      "                \"display_address\": [\n",
      "                    \"21778 Fm-1774\",\n",
      "                    \"Plantersville, TX 77363\"\n",
      "                ],\n",
      "                \"state\": \"TX\",\n",
      "                \"zip_code\": \"77363\"\n",
      "            },\n",
      "            \"name\": \"The King's Feast\",\n",
      "            \"phone\": \"+18002240761\",\n",
      "            \"price\": \"$$$$\",\n",
      "            \"rating\": 4.5,\n",
      "            \"review_count\": 7,\n",
      "            \"transactions\": [],\n",
      "            \"url\": \"https://www.yelp.com/biz/the-kings-feast-plantersville-2?adjust_creative=yvpDOw74EsdYOX_gzJFDZQ&utm_campaign=yelp_api_v3&utm_medium=api_v3_business_search&utm_source=yvpDOw74EsdYOX_gzJFDZQ\"\n",
      "        },\n",
      "        {\n",
      "            \"alias\": \"himari-houston-2\",\n",
      "            \"categories\": [\n",
      "                {\n",
      "                    \"alias\": \"japanese\",\n",
      "                    \"title\": \"Japanese\"\n",
      "                }\n",
      "            ],\n",
      "            \"coordinates\": {\n",
      "                \"latitude\": 29.816834,\n",
      "                \"longitude\": -95.421845\n",
      "            },\n",
      "            \"display_phone\": \"(832) 582-5005\",\n",
      "            \"distance\": 1911.251990966743,\n",
      "            \"id\": \"Fmdv8Wqf3kwwHXkmFiAv8Q\",\n",
      "            \"image_url\": \"https://s3-media3.fl.yelpcdn.com/bphoto/BNXyvPVyF2gEycQ__d6zdQ/o.jpg\",\n",
      "            \"is_closed\": false,\n",
      "            \"location\": {\n",
      "                \"address1\": \"1223 W 34th St\",\n",
      "                \"address2\": \"Ste C500\",\n",
      "                \"address3\": \"\",\n",
      "                \"city\": \"Houston\",\n",
      "                \"country\": \"US\",\n",
      "                \"display_address\": [\n",
      "                    \"1223 W 34th St\",\n",
      "                    \"Ste C500\",\n",
      "                    \"Houston, TX 77018\"\n",
      "                ],\n",
      "                \"state\": \"TX\",\n",
      "                \"zip_code\": \"77018\"\n",
      "            },\n",
      "            \"name\": \"Himari\",\n",
      "            \"phone\": \"+18325825005\",\n",
      "            \"rating\": 4.5,\n",
      "            \"review_count\": 34,\n",
      "            \"transactions\": [\n",
      "                \"pickup\",\n",
      "                \"delivery\"\n",
      "            ],\n",
      "            \"url\": \"https://www.yelp.com/biz/himari-houston-2?adjust_creative=yvpDOw74EsdYOX_gzJFDZQ&utm_campaign=yelp_api_v3&utm_medium=api_v3_business_search&utm_source=yvpDOw74EsdYOX_gzJFDZQ\"\n",
      "        },\n",
      "        {\n",
      "            \"alias\": \"rooster-and-rice-houston\",\n",
      "            \"categories\": [\n",
      "                {\n",
      "                    \"alias\": \"thai\",\n",
      "                    \"title\": \"Thai\"\n",
      "                },\n",
      "                {\n",
      "                    \"alias\": \"chickenshop\",\n",
      "                    \"title\": \"Chicken Shop\"\n",
      "                }\n",
      "            ],\n",
      "            \"coordinates\": {\n",
      "                \"latitude\": 29.816916598862413,\n",
      "                \"longitude\": -95.42140630000004\n",
      "            },\n",
      "            \"display_phone\": \"(713) 993-6581\",\n",
      "            \"distance\": 1909.21210692086,\n",
      "            \"id\": \"MeyUXf7jcgF-jeHnLZk3vg\",\n",
      "            \"image_url\": \"https://s3-media4.fl.yelpcdn.com/bphoto/PnDMB4daPvDtn4Wf5KbR9A/o.jpg\",\n",
      "            \"is_closed\": false,\n",
      "            \"location\": {\n",
      "                \"address1\": \"1223 W 34th St\",\n",
      "                \"address2\": \"Ste C-400\",\n",
      "                \"address3\": \"\",\n",
      "                \"city\": \"Houston\",\n",
      "                \"country\": \"US\",\n",
      "                \"display_address\": [\n",
      "                    \"1223 W 34th St\",\n",
      "                    \"Ste C-400\",\n",
      "                    \"Houston, TX 77018\"\n",
      "                ],\n",
      "                \"state\": \"TX\",\n",
      "                \"zip_code\": \"77018\"\n",
      "            },\n",
      "            \"name\": \"Rooster & Rice\",\n",
      "            \"phone\": \"+17139936581\",\n",
      "            \"price\": \"$$\",\n",
      "            \"rating\": 4.0,\n",
      "            \"review_count\": 74,\n",
      "            \"transactions\": [\n",
      "                \"pickup\",\n",
      "                \"delivery\"\n",
      "            ],\n",
      "            \"url\": \"https://www.yelp.com/biz/rooster-and-rice-houston?adjust_creative=yvpDOw74EsdYOX_gzJFDZQ&utm_campaign=yelp_api_v3&utm_medium=api_v3_business_search&utm_source=yvpDOw74EsdYOX_gzJFDZQ\"\n",
      "        }\n",
      "    ],\n",
      "    \"region\": {\n",
      "        \"center\": {\n",
      "            \"latitude\": 29.833322107007213,\n",
      "            \"longitude\": -95.42724609375\n",
      "        }\n",
      "    },\n",
      "    \"total\": 21500\n",
      "}\n"
     ]
    }
   ],
   "source": [
    "# Print the json (pretty printed)\n",
    "print(json.dumps(data, indent=4, sort_keys=True))"
   ]
  }
 ],
 "metadata": {
  "kernelspec": {
   "display_name": "dev",
   "language": "python",
   "name": "dev"
  },
  "language_info": {
   "codemirror_mode": {
    "name": "ipython",
    "version": 3
   },
   "file_extension": ".py",
   "mimetype": "text/x-python",
   "name": "python",
   "nbconvert_exporter": "python",
   "pygments_lexer": "ipython3",
   "version": "3.10.11"
  },
  "orig_nbformat": 4
 },
 "nbformat": 4,
 "nbformat_minor": 2
}
