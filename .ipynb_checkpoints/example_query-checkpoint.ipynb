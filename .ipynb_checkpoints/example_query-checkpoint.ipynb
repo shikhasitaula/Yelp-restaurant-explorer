{
 "cells": [
  {
   "cell_type": "code",
   "execution_count": 1,
   "metadata": {},
   "outputs": [],
   "source": [
    "import sqlite3\n",
    "conn = sqlite3.connect('Resources/restaurants.db')"
   ]
  },
  {
   "cell_type": "code",
   "execution_count": 2,
   "metadata": {},
   "outputs": [
    {
     "name": "stdout",
     "output_type": "stream",
     "text": [
      "('American (Traditional)', 69)\n",
      "('American (New)', 55)\n",
      "('Mexican', 54)\n",
      "('Pizza', 41)\n",
      "('Breakfast & Brunch', 40)\n",
      "('Burgers', 39)\n",
      "('Sushi Bars', 34)\n",
      "('Seafood', 33)\n",
      "('Sandwiches', 33)\n",
      "('Italian', 31)\n",
      "('Coffee & Tea', 31)\n",
      "('Bars', 30)\n",
      "('Chinese', 23)\n",
      "('Japanese', 22)\n",
      "('Steakhouses', 21)\n"
     ]
    }
   ],
   "source": [
    "cursor = conn.cursor()\n",
    "# Specify the cuisine you're interested in\n",
    "desired_cuisine = 'Italian'\n",
    "\n",
    "# Execute a SQL query to retrieve restaurant details for the given cuisine\n",
    "query = \"\"\"\n",
    "    SELECT cuisines, count(id)\n",
    "    FROM restaurant_cuisine\n",
    "    WHERE ID IN \n",
    "    (SELECT id from restaurant_metadata where state = 'CA')\n",
    "    GROUP BY cuisines\n",
    "    ORDER BY count(id) desc\n",
    "    LIMIT 15\n",
    "\"\"\"\n",
    "\n",
    "restaurants_with_cuisine = cursor.execute(query).fetchall()\n",
    "\n",
    "# Print the results\n",
    "for restaurant in restaurants_with_cuisine:\n",
    "    print(restaurant)\n",
    "\n",
    "\n"
   ]
  },
  {
   "cell_type": "code",
   "execution_count": 3,
   "metadata": {},
   "outputs": [
    {
     "name": "stdout",
     "output_type": "stream",
     "text": [
      "('NY', 800)\n",
      "('KS', 689)\n",
      "('VA', 672)\n",
      "('MD', 601)\n",
      "('MN', 564)\n",
      "('IN', 550)\n",
      "('MA', 536)\n",
      "('ME', 528)\n",
      "('SC', 525)\n",
      "('IA', 518)\n",
      "('MS', 516)\n",
      "('WV', 510)\n",
      "('CT', 508)\n",
      "('WI', 503)\n",
      "('CA', 503)\n",
      "('OR', 502)\n",
      "('TX', 501)\n",
      "('GA', 501)\n",
      "('AK', 501)\n",
      "('TN', 500)\n",
      "('OK', 500)\n",
      "('OH', 500)\n",
      "('NM', 500)\n",
      "('ID', 500)\n",
      "('HI', 500)\n",
      "('CO', 500)\n",
      "('AZ', 500)\n",
      "('AL', 500)\n",
      "('UT', 499)\n",
      "('MI', 499)\n",
      "('MT', 498)\n",
      "('AR', 498)\n",
      "('SD', 497)\n",
      "('IL', 490)\n",
      "('NE', 484)\n",
      "('LA', 484)\n",
      "('NC', 477)\n",
      "('RI', 464)\n",
      "('PA', 456)\n",
      "('NH', 455)\n",
      "('KY', 453)\n",
      "('ND', 432)\n",
      "('NJ', 406)\n",
      "('VT', 322)\n",
      "('MO', 307)\n",
      "('DE', 240)\n",
      "('DC', 226)\n",
      "('NV', 22)\n",
      "('WY', 6)\n",
      "('HRT', 1)\n",
      "('FL', 1)\n",
      "('DOW', 1)\n"
     ]
    }
   ],
   "source": [
    "query = \"\"\"\n",
    "    SELECT state, count(id)\n",
    "    FROM restaurant_metadata\n",
    "    GROUP BY state\n",
    "    ORDER BY count(id) desc\n",
    "   \n",
    " \"\"\"\n",
    "# query = \"\"\"\n",
    "#     SELECT DISTINCT (state)\n",
    "#     FROM restaurant_metadata\n",
    "   \n",
    "# \"\"\"\n",
    "restaurants_with_cuisine = cursor.execute(query).fetchall()\n",
    "\n",
    "# Print the results\n",
    "for restaurant in restaurants_with_cuisine:\n",
    "    print(restaurant)\n"
   ]
  },
  {
   "cell_type": "code",
   "execution_count": 4,
   "metadata": {},
   "outputs": [],
   "source": [
    "# Close the connection\n",
    "conn.close()"
   ]
  }
 ],
 "metadata": {
  "kernelspec": {
   "display_name": "Python 3 (ipykernel)",
   "language": "python",
   "name": "python3"
  },
  "language_info": {
   "codemirror_mode": {
    "name": "ipython",
    "version": 3
   },
   "file_extension": ".py",
   "mimetype": "text/x-python",
   "name": "python",
   "nbconvert_exporter": "python",
   "pygments_lexer": "ipython3",
   "version": "3.10.9"
  }
 },
 "nbformat": 4,
 "nbformat_minor": 2
}
